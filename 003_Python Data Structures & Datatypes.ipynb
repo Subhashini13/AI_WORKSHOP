{
 "cells": [
  {
   "cell_type": "markdown",
   "metadata": {},
   "source": [
    "# Datatype \n",
    "===> Type of data\n",
    "===> To specify the what type of data  holded by variable\n",
    "### Python Datatypes\n",
    "1. Fundamental Datatype\n",
    "\n",
    "---> A single variable can hold the single data element\n",
    "    1. int\n",
    "    2. float\n",
    "    3. complex\n",
    "    4. bool\n",
    "    5. Nonetype\n",
    "\n",
    "\n",
    "\n",
    "2. Sequential Datatype\n",
    "---> A single variable can hold multiple data elements\n",
    "    1. Str\n",
    "    2. list\n",
    "    3. tuple\n",
    "    4. set\n",
    "    5. dict\n"
   ]
  },
  {
   "cell_type": "code",
   "execution_count": 1,
   "metadata": {},
   "outputs": [
    {
     "name": "stdout",
     "output_type": "stream",
     "text": [
      "\n"
     ]
    }
   ],
   "source": [
    "print()"
   ]
  },
  {
   "cell_type": "code",
   "execution_count": 2,
   "metadata": {},
   "outputs": [
    {
     "name": "stdout",
     "output_type": "stream",
     "text": [
      "None\n"
     ]
    },
    {
     "data": {
      "text/plain": [
       "[1, 2]"
      ]
     },
     "execution_count": 2,
     "metadata": {},
     "output_type": "execute_result"
    }
   ],
   "source": [
    "lst = [1,2,3]\n",
    "print(lst.remove(3)) # example of none datatype\n",
    "lst\n",
    "# reason : remove() method doesn't return any value\n",
    "# it just removes that value from the listS"
   ]
  },
  {
   "cell_type": "code",
   "execution_count": 3,
   "metadata": {},
   "outputs": [
    {
     "name": "stdout",
     "output_type": "stream",
     "text": [
      "<class 'int'>\n",
      "<class 'int'>\n"
     ]
    }
   ],
   "source": [
    "# int datatype\n",
    "var = 12\n",
    "print(type(var))\n",
    "var =  0\n",
    "print(type(var))\n"
   ]
  },
  {
   "cell_type": "code",
   "execution_count": 4,
   "metadata": {},
   "outputs": [
    {
     "name": "stdout",
     "output_type": "stream",
     "text": [
      "<class 'float'>\n",
      "<class 'float'>\n"
     ]
    }
   ],
   "source": [
    "# float datatype\n",
    "var =12.34\n",
    "print(type(var))\n",
    "var =0.0\n",
    "print(type(var))\n"
   ]
  },
  {
   "cell_type": "code",
   "execution_count": 5,
   "metadata": {},
   "outputs": [
    {
     "name": "stdout",
     "output_type": "stream",
     "text": [
      "<class 'complex'>\n"
     ]
    }
   ],
   "source": [
    "# complex number -> X +Yi (X---> real ,y -> imaginery)  \n",
    "# ---> X+Yj\n",
    "var = 32+12j\n",
    "print(type(var))\n"
   ]
  },
  {
   "cell_type": "code",
   "execution_count": 6,
   "metadata": {},
   "outputs": [
    {
     "name": "stdout",
     "output_type": "stream",
     "text": [
      "<class 'complex'>\n",
      "34.7\n",
      "12.0\n"
     ]
    }
   ],
   "source": [
    "var = 34.7+12j\n",
    "print(type(var))\n",
    "print(var.real)\n",
    "print(var.imag)"
   ]
  },
  {
   "cell_type": "code",
   "execution_count": 7,
   "metadata": {},
   "outputs": [
    {
     "name": "stdout",
     "output_type": "stream",
     "text": [
      "<class 'bool'>\n",
      "<class 'bool'>\n"
     ]
    }
   ],
   "source": [
    "var = True\n",
    "print(type(var))\n",
    "var = False\n",
    "print(type(var))"
   ]
  },
  {
   "cell_type": "code",
   "execution_count": 8,
   "metadata": {},
   "outputs": [
    {
     "name": "stdout",
     "output_type": "stream",
     "text": [
      "<class 'NoneType'>\n"
     ]
    }
   ],
   "source": [
    "var = None \n",
    "print(type(var))"
   ]
  },
  {
   "cell_type": "code",
   "execution_count": 9,
   "metadata": {},
   "outputs": [
    {
     "name": "stdout",
     "output_type": "stream",
     "text": [
      "12\n"
     ]
    },
    {
     "ename": "TypeError",
     "evalue": "fun() missing 1 required positional argument: 'var'",
     "output_type": "error",
     "traceback": [
      "\u001b[1;31m---------------------------------------------------------------------------\u001b[0m",
      "\u001b[1;31mTypeError\u001b[0m                                 Traceback (most recent call last)",
      "\u001b[1;32m<ipython-input-9-9afb6c39ff88>\u001b[0m in \u001b[0;36m<module>\u001b[1;34m\u001b[0m\n\u001b[0;32m      2\u001b[0m     \u001b[0mprint\u001b[0m\u001b[1;33m(\u001b[0m\u001b[0mvar\u001b[0m\u001b[1;33m)\u001b[0m\u001b[1;33m\u001b[0m\u001b[1;33m\u001b[0m\u001b[0m\n\u001b[0;32m      3\u001b[0m \u001b[0mfun\u001b[0m\u001b[1;33m(\u001b[0m\u001b[1;36m12\u001b[0m\u001b[1;33m)\u001b[0m\u001b[1;33m\u001b[0m\u001b[1;33m\u001b[0m\u001b[0m\n\u001b[1;32m----> 4\u001b[1;33m \u001b[0mfun\u001b[0m\u001b[1;33m(\u001b[0m\u001b[1;33m)\u001b[0m\u001b[1;33m\u001b[0m\u001b[1;33m\u001b[0m\u001b[0m\n\u001b[0m",
      "\u001b[1;31mTypeError\u001b[0m: fun() missing 1 required positional argument: 'var'"
     ]
    }
   ],
   "source": [
    "def fun(var):\n",
    "    print(var)\n",
    "fun(12)\n",
    "fun()"
   ]
  },
  {
   "cell_type": "code",
   "execution_count": null,
   "metadata": {},
   "outputs": [],
   "source": [
    "def fun(var = None):\n",
    "    print(var)\n",
    "fun()\n",
    "fun(12)\n",
    "\n"
   ]
  },
  {
   "cell_type": "code",
   "execution_count": null,
   "metadata": {},
   "outputs": [],
   "source": [
    "#### str ---? collection of character with in \"\"\n",
    "var = \"python program1234#$%^\"\n",
    "print(type(var))"
   ]
  },
  {
   "cell_type": "code",
   "execution_count": null,
   "metadata": {},
   "outputs": [],
   "source": [
    "#### list ---> with in square brackets collectng multiple elements\n",
    "var = [12,3.45,5+4j,None,True,\"soc\"]\n",
    "print(type(var))"
   ]
  },
  {
   "cell_type": "code",
   "execution_count": null,
   "metadata": {},
   "outputs": [],
   "source": [
    "var = 1111111234567876543288900000000000000000000000000002777777\n",
    "print(type(var))"
   ]
  },
  {
   "cell_type": "code",
   "execution_count": null,
   "metadata": {},
   "outputs": [],
   "source": [
    "##### tuple() --> list[]\n",
    "var =(12,34,\"hey\")\n",
    "print(type(var))"
   ]
  },
  {
   "cell_type": "code",
   "execution_count": null,
   "metadata": {},
   "outputs": [],
   "source": [
    "### set {} --> colection of elements\n",
    "var ={12,3,4,5643,12,2+4j,True,None}\n",
    "print(type(var))\n",
    "print(var)\n",
    "\n",
    "### dict{} ---> collections of records key: values\n",
    "\n",
    "\n",
    "var ={ \"Ritik\" : 1234 , \"abhi \" : None,None : 342 ,True :877,1234 :33}\n",
    "print(type(var))\n",
    "print(var)\n",
    "print(var[True])"
   ]
  },
  {
   "cell_type": "code",
   "execution_count": null,
   "metadata": {},
   "outputs": [],
   "source": [
    "#### Build in functions \n",
    "# id() --> memory loc\n",
    "# type() ---> datatype\n",
    "# print() ---> display\n",
    "# input ---> read the data from keyword\n",
    "var = input(\"Enter the data : \")\n",
    "print(var)"
   ]
  },
  {
   "cell_type": "code",
   "execution_count": null,
   "metadata": {},
   "outputs": [],
   "source": [
    "# read int ---> input()\n",
    "var = input(\" enter any data : \")\n",
    "print(var)\n",
    "print(type(var))\n"
   ]
  },
  {
   "cell_type": "code",
   "execution_count": null,
   "metadata": {},
   "outputs": [],
   "source": [
    "# datatype conversion functionsare available\n",
    "'''\n",
    "To convert any datatype to specific datatype\n",
    "int()\n",
    "float()\n",
    "complex()\n",
    "bool()\n",
    "str()\n",
    "list()\n",
    "tuple()\n",
    "dict()\n",
    "set()\n",
    "\n",
    "'''\n",
    "#WAP read int and convet to str to int\n",
    "\n",
    "var = input(\"Enter int : \")\n",
    "print(type(var))\n",
    "\n",
    "var= int(var)\n",
    "print(type(var))"
   ]
  },
  {
   "cell_type": "code",
   "execution_count": null,
   "metadata": {},
   "outputs": [],
   "source": [
    "# wap read float and convert str to float\n",
    "var = input(\"enter int :\")\n",
    "print(type(var))\n",
    "var=float(var)\n",
    "print(type(var))"
   ]
  },
  {
   "cell_type": "code",
   "execution_count": null,
   "metadata": {},
   "outputs": [],
   "source": [
    "var = int(input(\"enter data \"))\n",
    "print(var)"
   ]
  },
  {
   "cell_type": "code",
   "execution_count": null,
   "metadata": {},
   "outputs": [],
   "source": [
    "# wap read bool and conver str to bool\n",
    "var = input(\"enter bool \")\n",
    "print(type(var))\n",
    "var = bool(var)\n",
    "print(type(var))"
   ]
  },
  {
   "cell_type": "code",
   "execution_count": null,
   "metadata": {},
   "outputs": [],
   "source": [
    "# wap read complex and covert str to complex\n",
    "var = input(\"enter complex\")\n",
    "print(type(var))\n",
    "var = complex(var)\n",
    "print(var)"
   ]
  },
  {
   "cell_type": "code",
   "execution_count": null,
   "metadata": {},
   "outputs": [],
   "source": [
    "# wap read list and convert str to list\n",
    "var = input(\"enter list\")\n",
    "print(type(var))\n",
    "var = list(var)\n",
    "print(var)"
   ]
  },
  {
   "cell_type": "code",
   "execution_count": null,
   "metadata": {},
   "outputs": [],
   "source": [
    "# wap read dict and convert str to dict\n",
    "var = input(\"enter dict\")\n",
    "print(type(var))\n",
    "var = dict(var)\n",
    "print(var)"
   ]
  },
  {
   "cell_type": "code",
   "execution_count": null,
   "metadata": {},
   "outputs": [],
   "source": []
  }
 ],
 "metadata": {
  "kernelspec": {
   "display_name": "Python 3",
   "language": "python",
   "name": "python3"
  },
  "language_info": {
   "codemirror_mode": {
    "name": "ipython",
    "version": 3
   },
   "file_extension": ".py",
   "mimetype": "text/x-python",
   "name": "python",
   "nbconvert_exporter": "python",
   "pygments_lexer": "ipython3",
   "version": "3.7.4"
  }
 },
 "nbformat": 4,
 "nbformat_minor": 2
}

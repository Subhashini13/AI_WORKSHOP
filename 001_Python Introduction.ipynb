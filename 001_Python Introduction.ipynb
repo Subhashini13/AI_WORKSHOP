{
 "cells": [
  {
   "cell_type": "markdown",
   "metadata": {},
   "source": [
    "# Welcome to python programming"
   ]
  },
  {
   "cell_type": "markdown",
   "metadata": {},
   "source": [
    "\n",
    "\n",
    "### Python Features\n",
    "Python provides many useful features which make it popular and valuable from the other programming languages. It supports object-oriented programming, procedural programming approaches and provides dynamic memory allocation. We have listed below a few essential features.\n",
    "\n",
    "1) Easy to Learn and Use\n",
    "Python is easy to learn as compared to other programming languages. Its syntax is straightforward and much the same as the English language. There is no use of the semicolon or curly-bracket, the indentation defines the code block. It is the recommended programming language for beginners.\n",
    "\n",
    "2) Expressive Language\n",
    "Python can perform complex tasks using a few lines of code. A simple example, the hello world program you simply type print(\"Hello World\"). It will take only one line to execute, while Java or C takes multiple lines.\n",
    "\n",
    "\n",
    "3) Interpreted Language\n",
    "Python is an interpreted language; it means the Python program is executed one line at a time. The advantage of being interpreted language, it makes debugging easy and portable.\n",
    "\n",
    "4) Cross-platform Language\n",
    "Python can run equally on different platforms such as Windows, Linux, UNIX, and Macintosh, etc. So, we can say that Python is a portable language. It enables programmers to develop the software for several competing platforms by writing a program only once.\n",
    "\n",
    "5) Free and Open Source\n",
    "Python is freely available for everyone. It is freely available on its official website www.python.org. It has a large community across the world that is dedicatedly working towards make new python modules and functions. Anyone can contribute to the Python community. The open-source means, \"Anyone can download its source code without paying any penny.\"\n",
    "\n",
    "6) Object-Oriented Language\n",
    "Python supports object-oriented language and concepts of classes and objects come into existence. It supports inheritance, polymorphism, and encapsulation, etc. The object-oriented procedure helps to programmer to write reusable code and develop applications in less code.\n",
    "\n",
    "7) Extensible\n",
    "It implies that other languages such as C/C++ can be used to compile the code and thus it can be used further in our Python code. It converts the program into byte code, and any platform can use that byte code.\n",
    "\n",
    "8) Large Standard Library\n",
    "It provides a vast range of libraries for the various fields such as machine learning, web developer, and also for the scripting. There are various machine learning libraries, such as Tensor flow, Pandas, Numpy, Keras, and Pytorch, etc. Django, flask, pyramids are the popular framework for Python web development.\n",
    "\n",
    "9) GUI Programming Support\n",
    "Graphical User Interface is used for the developing Desktop application. PyQT5, Tkinter, Kivy are the libraries which are used for developing the web application.\n",
    "\n",
    "10) Integrated\n",
    "It can be easily integrated with languages like C, C++, and JAVA, etc. Python runs code line by line like C,C++ Java. It makes easy to debug the code.\n",
    "\n",
    "11. Embeddable\n",
    "The code of the other programming language can use in the Python source code. We can use Python source code in another programming language as well. It can embed other language into our code.\n",
    "\n",
    "12. Dynamic Memory Allocation\n",
    "In Python, we don't need to specify the data-type of the variable. When we assign some value to the variable, it automatically allocates the memory to the variable at run time. Suppose we are assigned integer value 15 to x, then we don't need to write int x = 15. Just write x = 15"
   ]
  },
  {
   "cell_type": "code",
   "execution_count": null,
   "metadata": {},
   "outputs": [],
   "source": []
  }
 ],
 "metadata": {
  "kernelspec": {
   "display_name": "Python 3",
   "language": "python",
   "name": "python3"
  },
  "language_info": {
   "codemirror_mode": {
    "name": "ipython",
    "version": 3
   },
   "file_extension": ".py",
   "mimetype": "text/x-python",
   "name": "python",
   "nbconvert_exporter": "python",
   "pygments_lexer": "ipython3",
   "version": "3.7.4"
  }
 },
 "nbformat": 4,
 "nbformat_minor": 2
}

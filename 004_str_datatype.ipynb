{
 "cells": [
  {
   "cell_type": "code",
   "execution_count": null,
   "metadata": {},
   "outputs": [],
   "source": [
    "# str ---> seq of characters\n",
    "var ='FRTUNN678K'\n",
    "print(type(var))\n",
    "var = \"Python\"\n",
    "print(type(var))\n",
    "var=\"\"\" python \"\"\"\n",
    "print(type(var))\n",
    "var = '''python'''\n",
    "print(type(var))"
   ]
  },
  {
   "cell_type": "code",
   "execution_count": null,
   "metadata": {},
   "outputs": [],
   "source": [
    "# we can access the characters from str\n",
    "# indexing ---> position or location\n",
    "#positive indexing\n",
    "var = \"python\"\n",
    "print(var[0])\n",
    "print(var[1])\n",
    "print(var[2])\n",
    "print(var[3])\n",
    "print(var[4])\n",
    "print(var[5])\n"
   ]
  },
  {
   "cell_type": "code",
   "execution_count": null,
   "metadata": {},
   "outputs": [],
   "source": [
    "#negative indexing\n",
    "var = \"python\"\n",
    "print(var[-1],end=\" \")\n",
    "print(var[-2],end=\" \")\n",
    "print(var[-3],end=\" \")\n",
    "print(var[-4],end=\" \")\n",
    "print(var[-5],end=\" \")\n",
    "print(var[-6],end=\" \")\n"
   ]
  },
  {
   "cell_type": "code",
   "execution_count": null,
   "metadata": {},
   "outputs": [],
   "source": [
    "# Slicing concept var[start : stop]\n",
    "var = \"python programming language\"\n",
    "print(var[7:18])#programming\n",
    "print(var[ :18])#python programming\n",
    "print(var[7: ]) #programming language"
   ]
  },
  {
   "cell_type": "code",
   "execution_count": null,
   "metadata": {},
   "outputs": [],
   "source": [
    "#Dicing concept var[start : stop :step ]\n",
    "var = \"python programming language\"\n",
    "print(var[2:18:3]) #tnrrmg\n",
    "print(var[2:18:1<4])\n",
    "print(var[-14:-18:-1])\n",
    "print(var[-17:-13])\n"
   ]
  },
  {
   "cell_type": "code",
   "execution_count": null,
   "metadata": {},
   "outputs": [],
   "source": [
    "# str is immutable -->we cant modify\n",
    "var= \"python\"\n",
    "print(var[3])\n",
    "var[3]=\"3\""
   ]
  },
  {
   "cell_type": "code",
   "execution_count": null,
   "metadata": {},
   "outputs": [],
   "source": [
    "#str ---> predefined class ---> methods ---->> manipulation of str data\n",
    "var = \"python \"\n",
    "print(len(var))\n",
    "print(max(var))\n",
    "print(min(var)) # smallest char \n",
    "print(ord('a'))\n",
    "print(ord('z'))\n",
    "print(ord('0'))\n",
    "print(ord('Z'))\n",
    "print(ord('\\n'))\n",
    "#chr (ascii --->)\n",
    "print(chr(99))\n",
    "print(chr(123))"
   ]
  },
  {
   "cell_type": "code",
   "execution_count": 12,
   "metadata": {},
   "outputs": [
    {
     "name": "stdout",
     "output_type": "stream",
     "text": [
      "['__add__', '__class__', '__contains__', '__delattr__', '__dir__', '__doc__', '__eq__', '__format__', '__ge__', '__getattribute__', '__getitem__', '__getnewargs__', '__gt__', '__hash__', '__init__', '__init_subclass__', '__iter__', '__le__', '__len__', '__lt__', '__mod__', '__mul__', '__ne__', '__new__', '__reduce__', '__reduce_ex__', '__repr__', '__rmod__', '__rmul__', '__setattr__', '__sizeof__', '__str__', '__subclasshook__', 'capitalize', 'casefold', 'center', 'count', 'encode', 'endswith', 'expandtabs', 'find', 'format', 'format_map', 'index', 'isalnum', 'isalpha', 'isascii', 'isdecimal', 'isdigit', 'isidentifier', 'islower', 'isnumeric', 'isprintable', 'isspace', 'istitle', 'isupper', 'join', 'ljust', 'lower', 'lstrip', 'maketrans', 'partition', 'replace', 'rfind', 'rindex', 'rjust', 'rpartition', 'rsplit', 'rstrip', 'split', 'splitlines', 'startswith', 'strip', 'swapcase', 'title', 'translate', 'upper', 'zfill']\n"
     ]
    }
   ],
   "source": [
    "print(dir(str))"
   ]
  },
  {
   "cell_type": "code",
   "execution_count": null,
   "metadata": {},
   "outputs": [],
   "source": [
    "print(dir(int))"
   ]
  },
  {
   "cell_type": "code",
   "execution_count": null,
   "metadata": {},
   "outputs": [],
   "source": [
    "#__special methods__ ---> automatically can be executed\n",
    "a=\"python \"\n",
    "b=\"program\"\n",
    "print(a+b) #\n",
    "\n"
   ]
  },
  {
   "cell_type": "code",
   "execution_count": null,
   "metadata": {},
   "outputs": [],
   "source": [
    "#__mul__\n",
    "var = \"python\"\n",
    "print(var*4)\n",
    "help(str.__mul__)"
   ]
  },
  {
   "cell_type": "code",
   "execution_count": null,
   "metadata": {},
   "outputs": [],
   "source": [
    "var = \"python GHHGJKkl\"\n",
    "print(var.lower())\n",
    "print(var.upper())\n",
    "print(var.swapcase())\n",
    "print(var.title())\n",
    "print(var.capitalize())\n",
    "print(var[ :2].upper()+var[2:4].lower()+var[4:6].upper()+var[6:].lower())"
   ]
  },
  {
   "cell_type": "code",
   "execution_count": null,
   "metadata": {},
   "outputs": [],
   "source": [
    "#replace()\n",
    "var=\"python\"\n",
    "print(var)\n",
    "print(var.replace('h','H'))\n",
    "var = var.replace('h','H')\n",
    "print(var)"
   ]
  },
  {
   "cell_type": "code",
   "execution_count": 1,
   "metadata": {},
   "outputs": [
    {
     "name": "stdout",
     "output_type": "stream",
     "text": [
      "186 ns ± 12 ns per loop (mean ± std. dev. of 7 runs, 10000000 loops each)\n"
     ]
    }
   ],
   "source": [
    "var = \"python kjhjHJHKaaaaaaaaaaaaaaaaaaaaaJHHGDSDFGHJ\"\n",
    "%timeit var.upper()"
   ]
  },
  {
   "cell_type": "code",
   "execution_count": 2,
   "metadata": {},
   "outputs": [
    {
     "name": "stdout",
     "output_type": "stream",
     "text": [
      "162 ns ± 5.46 ns per loop (mean ± std. dev. of 7 runs, 10000000 loops each)\n"
     ]
    }
   ],
   "source": [
    "var = \"python kjhjHJHKaaaaaaaaaaaaaaaaaaaaaJHHGDSDFGHJ\"\n",
    "%timeit var.upper()"
   ]
  },
  {
   "cell_type": "code",
   "execution_count": 3,
   "metadata": {},
   "outputs": [
    {
     "name": "stdout",
     "output_type": "stream",
     "text": [
      "169 ns ± 9.81 ns per loop (mean ± std. dev. of 7 runs, 10000000 loops each)\n"
     ]
    }
   ],
   "source": [
    "var = \"python kjhjHJHKaaaaaaaaaaaaaaaaaaaaaJHHGDSDFGHJ\"\n",
    "%timeit var.upper()"
   ]
  },
  {
   "cell_type": "code",
   "execution_count": 4,
   "metadata": {},
   "outputs": [
    {
     "name": "stdout",
     "output_type": "stream",
     "text": [
      "['this', 'is', 'small', 'program']\n"
     ]
    }
   ],
   "source": [
    "var = \"this is small program\"\n",
    "print(var.split())"
   ]
  },
  {
   "cell_type": "code",
   "execution_count": 5,
   "metadata": {},
   "outputs": [
    {
     "name": "stdout",
     "output_type": "stream",
     "text": [
      "['this is small program']\n"
     ]
    }
   ],
   "source": [
    "#split\n",
    "var = \"this is small program\"\n",
    "print(var.split('1'))"
   ]
  },
  {
   "cell_type": "code",
   "execution_count": 6,
   "metadata": {},
   "outputs": [
    {
     "name": "stdout",
     "output_type": "stream",
     "text": [
      "this2is2small2program\n",
      "this is small program\n"
     ]
    }
   ],
   "source": [
    "#join\n",
    "var=['this','is','small','program']\n",
    "print('2'.join(var))\n",
    "print(' '.join(var))"
   ]
  },
  {
   "cell_type": "code",
   "execution_count": 7,
   "metadata": {},
   "outputs": [
    {
     "name": "stdout",
     "output_type": "stream",
     "text": [
      "True\n",
      "False\n"
     ]
    }
   ],
   "source": [
    "var = \"1345676543\"\n",
    "print(var.isdigit())\n",
    "var = \" kshgaf5678\"\n",
    "print(var.isalpha())\n"
   ]
  },
  {
   "cell_type": "code",
   "execution_count": 8,
   "metadata": {},
   "outputs": [
    {
     "name": "stdout",
     "output_type": "stream",
     "text": [
      "True\n"
     ]
    }
   ],
   "source": [
    "var = \"kahgs2345hbvfRFGH\"\n",
    "print(var.isalnum())"
   ]
  },
  {
   "cell_type": "code",
   "execution_count": 9,
   "metadata": {},
   "outputs": [
    {
     "name": "stdout",
     "output_type": "stream",
     "text": [
      "True\n"
     ]
    }
   ],
   "source": [
    "var=\"   \"\n",
    "print(var.isspace())\n"
   ]
  },
  {
   "cell_type": "code",
   "execution_count": 10,
   "metadata": {},
   "outputs": [
    {
     "name": "stdout",
     "output_type": "stream",
     "text": [
      "0\n"
     ]
    }
   ],
   "source": [
    "var = \"ksjjss\"\n",
    "print(var.count('d'))"
   ]
  },
  {
   "cell_type": "code",
   "execution_count": 11,
   "metadata": {},
   "outputs": [
    {
     "name": "stdout",
     "output_type": "stream",
     "text": [
      "2\n"
     ]
    }
   ],
   "source": [
    "var =\"puthon\"\n",
    "print(var.index('t'))\n"
   ]
  },
  {
   "cell_type": "code",
   "execution_count": null,
   "metadata": {},
   "outputs": [],
   "source": [
    "# regular expresssion\n"
   ]
  }
 ],
 "metadata": {
  "kernelspec": {
   "display_name": "Python 3",
   "language": "python",
   "name": "python3"
  },
  "language_info": {
   "codemirror_mode": {
    "name": "ipython",
    "version": 3
   },
   "file_extension": ".py",
   "mimetype": "text/x-python",
   "name": "python",
   "nbconvert_exporter": "python",
   "pygments_lexer": "ipython3",
   "version": "3.7.4"
  }
 },
 "nbformat": 4,
 "nbformat_minor": 2
}

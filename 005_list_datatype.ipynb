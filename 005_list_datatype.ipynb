{
 "cells": [
  {
   "cell_type": "markdown",
   "metadata": {},
   "source": [
    "##### LIST  DATATYPE"
   ]
  },
  {
   "cell_type": "code",
   "execution_count": 3,
   "metadata": {},
   "outputs": [
    {
     "name": "stdout",
     "output_type": "stream",
     "text": [
      "[12, 7.5, (3+3j), None, 'soc', [1223, 112], 456789, {12: 'ee'}]\n"
     ]
    }
   ],
   "source": [
    "#### list datatype \n",
    "'''\n",
    "===> sequential datatype --->> collection / group of elements[]\n",
    "===> Heterogenous datatype ---> collection of different type of elemnets\n",
    "'''\n",
    "var=[12,7.5,3+3j,None,\"soc\",[1223,112],(456789),{12 :\"ee\"}]\n",
    "print(type(var)"
   ]
  },
  {
   "cell_type": "code",
   "execution_count": 7,
   "metadata": {},
   "outputs": [
    {
     "name": "stdout",
     "output_type": "stream",
     "text": [
      "12\n",
      "{12: 'ee'}\n"
     ]
    }
   ],
   "source": [
    "#positive indexing\n",
    "#---> 0 to len-1\n",
    "var=[12,7.5,3+3j,None,\"soc\",[1223,112],(456789),{12 :\"ee\"}]\n",
    "print(var[0])\n",
    "print(var[7])\n"
   ]
  },
  {
   "cell_type": "code",
   "execution_count": 13,
   "metadata": {},
   "outputs": [
    {
     "name": "stdout",
     "output_type": "stream",
     "text": [
      "2\n"
     ]
    }
   ],
   "source": [
    "#negative indexing\n",
    "var=[12,7.5,3+3j,True,None,\"soc\",[1,2,3],(1,2,3),{12 :45}]\n",
    "print(var[6][1])"
   ]
  },
  {
   "cell_type": "code",
   "execution_count": 12,
   "metadata": {},
   "outputs": [
    {
     "name": "stdout",
     "output_type": "stream",
     "text": [
      "[None, 'soc', [1223, 112], 456789, {12: 'ee'}]\n",
      "[12, 7.5, (3+3j), None, 'soc', [1223, 112], 456789, {12: 'ee'}]\n",
      "[None, 'soc', [1223, 112], 456789, {12: 'ee'}]\n"
     ]
    }
   ],
   "source": [
    "#list slicing ---> var[start : stop ]\n",
    "var=[12,7.5,3+3j,None,\"soc\",[1,2],(45,67,89),{12 :\"ee\"}]\n",
    "print(var[3:8])\n",
    "print(var[:8])\n",
    "print(var[3:])\n"
   ]
  },
  {
   "cell_type": "code",
   "execution_count": 15,
   "metadata": {},
   "outputs": [
    {
     "name": "stdout",
     "output_type": "stream",
     "text": [
      "2\n",
      "[7.5, True, 'soc', (1, 2, 3)]\n"
     ]
    }
   ],
   "source": [
    "#subslicing\n",
    "var=[12,7.5,3+3j,True,None,\"soc\",[1,2,3],(1,2,3),{12 :45}]\n",
    "print(var[6][1])\n"
   ]
  },
  {
   "cell_type": "code",
   "execution_count": 19,
   "metadata": {},
   "outputs": [
    {
     "name": "stdout",
     "output_type": "stream",
     "text": [
      "[7.5, True, 'soc', (1, 2, 3)]\n",
      "[7.5, None, (1, 2, 3)]\n",
      "[12, True, [1, 2, 3]]\n",
      "[12, (3+3j), None, [1, 2, 3], {12: 45}]\n",
      "[12, 7.5, (3+3j), True, None, 'soc', [1, 2, 3], (1, 2, 3), {12: 45}]\n"
     ]
    }
   ],
   "source": [
    "#list dicing\n",
    "\n",
    "var=[12,7.5,3+3j,True,None,\"soc\",[1,2,3],(1,2,3),{12 :45}]\n",
    "print(var[1:8:2])\n",
    "print(var[1:8:3])\n",
    "print(var[::3])\n",
    "print(var[::2])\n",
    "print(var[::])\n"
   ]
  },
  {
   "cell_type": "code",
   "execution_count": 20,
   "metadata": {},
   "outputs": [
    {
     "name": "stdout",
     "output_type": "stream",
     "text": [
      "[1, 2, 3, 4]\n",
      "[1, 2, 100, 4]\n"
     ]
    }
   ],
   "source": [
    "#mutable datatype,unhashble\n",
    "var=[1,2,3,4]\n",
    "print(var)\n",
    "var[2]=100\n",
    "print(var)"
   ]
  },
  {
   "cell_type": "code",
   "execution_count": 49,
   "metadata": {},
   "outputs": [
    {
     "name": "stdout",
     "output_type": "stream",
     "text": [
      "None\n"
     ]
    },
    {
     "ename": "TypeError",
     "evalue": "append() takes exactly one argument (3 given)",
     "output_type": "error",
     "traceback": [
      "\u001b[1;31m---------------------------------------------------------------------------\u001b[0m",
      "\u001b[1;31mTypeError\u001b[0m                                 Traceback (most recent call last)",
      "\u001b[1;32m<ipython-input-49-ecf4b5bd1187>\u001b[0m in \u001b[0;36m<module>\u001b[1;34m\u001b[0m\n\u001b[0;32m      1\u001b[0m \u001b[0mvar\u001b[0m\u001b[1;33m=\u001b[0m\u001b[1;33m[\u001b[0m\u001b[1;36m1\u001b[0m\u001b[1;33m,\u001b[0m\u001b[1;36m4\u001b[0m\u001b[1;33m,\u001b[0m\u001b[1;36m5\u001b[0m\u001b[1;33m]\u001b[0m\u001b[1;33m\u001b[0m\u001b[1;33m\u001b[0m\u001b[0m\n\u001b[0;32m      2\u001b[0m \u001b[0mprint\u001b[0m\u001b[1;33m(\u001b[0m\u001b[0mvar\u001b[0m\u001b[1;33m.\u001b[0m\u001b[0mappend\u001b[0m\u001b[1;33m(\u001b[0m\u001b[1;36m100\u001b[0m\u001b[1;33m)\u001b[0m\u001b[1;33m)\u001b[0m\u001b[1;33m\u001b[0m\u001b[1;33m\u001b[0m\u001b[0m\n\u001b[1;32m----> 3\u001b[1;33m \u001b[0mvar\u001b[0m\u001b[1;33m.\u001b[0m\u001b[0mappend\u001b[0m\u001b[1;33m(\u001b[0m\u001b[1;36m200\u001b[0m\u001b[1;33m,\u001b[0m\u001b[1;36m23\u001b[0m\u001b[1;33m,\u001b[0m\u001b[1;36m566\u001b[0m\u001b[1;33m)\u001b[0m\u001b[1;33m\u001b[0m\u001b[1;33m\u001b[0m\u001b[0m\n\u001b[0m\u001b[0;32m      4\u001b[0m \u001b[0mprint\u001b[0m\u001b[1;33m(\u001b[0m\u001b[0mvar\u001b[0m\u001b[1;33m)\u001b[0m\u001b[1;33m\u001b[0m\u001b[1;33m\u001b[0m\u001b[0m\n",
      "\u001b[1;31mTypeError\u001b[0m: append() takes exactly one argument (3 given)"
     ]
    }
   ],
   "source": [
    "var=[1,4,5]\n",
    "print(var.append(100))\n",
    "var.append(200)\n",
    "print(var)\n"
   ]
  },
  {
   "cell_type": "code",
   "execution_count": 22,
   "metadata": {},
   "outputs": [
    {
     "name": "stdout",
     "output_type": "stream",
     "text": [
      "[1, 2, 3, 4, 5]\n",
      "[1, 2, 3, 4]\n",
      "[1, 2, 3]\n"
     ]
    }
   ],
   "source": [
    "var =[1,2,3,4,5]\n",
    "print(var)\n",
    "var.pop()\n",
    "print(var)\n",
    "var.pop()\n",
    "print(var)\n"
   ]
  },
  {
   "cell_type": "code",
   "execution_count": 26,
   "metadata": {},
   "outputs": [
    {
     "name": "stdout",
     "output_type": "stream",
     "text": [
      "6\n",
      "8\n",
      "38\n",
      "3\n"
     ]
    }
   ],
   "source": [
    "var=[12,3,5,6,8,4]\n",
    "print(len(var))\n",
    "print(max(var[2:]))\n",
    "print(sum(var))\n",
    "print(min(var))\n"
   ]
  },
  {
   "cell_type": "code",
   "execution_count": 41,
   "metadata": {},
   "outputs": [
    {
     "name": "stdout",
     "output_type": "stream",
     "text": [
      "[1, 2, 3, 5]\n",
      "[1, 2]\n",
      "[1]\n"
     ]
    }
   ],
   "source": [
    "#pop\n",
    "var =[1,2,3,4,5]\n",
    "var.pop(1+2)\n",
    "print(var)\n",
    "var.pop(1*3)\n",
    "var.pop()\n",
    "print(var)\n",
    "var.pop(1)\n",
    "print(var)\n",
    "\n"
   ]
  },
  {
   "cell_type": "code",
   "execution_count": 44,
   "metadata": {},
   "outputs": [
    {
     "name": "stdout",
     "output_type": "stream",
     "text": [
      "[45, 23, 88, 45]\n",
      "[23, 45]\n"
     ]
    }
   ],
   "source": [
    "#remove =[45,90,23,88,45]\n",
    "var = [45,90,23,88,45]\n",
    "var.remove(90)\n",
    "print(var)\n",
    "#del \n",
    "del var[::2]\n",
    "print(var)"
   ]
  },
  {
   "cell_type": "code",
   "execution_count": 45,
   "metadata": {},
   "outputs": [
    {
     "name": "stdout",
     "output_type": "stream",
     "text": [
      "[12, 89, 78, 100]\n"
     ]
    }
   ],
   "source": [
    "var = [12,89,45,78,100]\n",
    "print(var[:2]+ var[3:])"
   ]
  },
  {
   "cell_type": "code",
   "execution_count": 50,
   "metadata": {},
   "outputs": [
    {
     "name": "stdout",
     "output_type": "stream",
     "text": [
      "[12, 89, 78, 100, 67]\n"
     ]
    }
   ],
   "source": [
    "var=[12,89,45,78,100,45,67,45]\n",
    "v=[]\n",
    "for i in range(len(var)):\n",
    "    if(var[i]==45):\n",
    "        continue\n",
    "    v.append(var[i])\n",
    "print(v)\n",
    "    \n",
    "    \n",
    "\n",
    "\n"
   ]
  },
  {
   "cell_type": "code",
   "execution_count": 55,
   "metadata": {},
   "outputs": [
    {
     "name": "stdout",
     "output_type": "stream",
     "text": [
      "[12, 5, 60, 56]\n",
      "[12, 5, 108, 60, 56]\n",
      "[12, 5, 100, 108, 100, 60, 56, 100]\n"
     ]
    }
   ],
   "source": [
    "var=[12,5,60,56]\n",
    "print(var)\n",
    "var.insert(2,108)\n",
    "print(var)\n",
    "for index in [2,4,7]:\n",
    "    var.insert(index,100)\n",
    "print(var)\n"
   ]
  },
  {
   "cell_type": "code",
   "execution_count": 53,
   "metadata": {},
   "outputs": [
    {
     "name": "stdout",
     "output_type": "stream",
     "text": [
      "3\n"
     ]
    }
   ],
   "source": [
    "var = [12,90,12,90,12]\n",
    "print(var.count(12))"
   ]
  },
  {
   "cell_type": "code",
   "execution_count": 57,
   "metadata": {},
   "outputs": [
    {
     "name": "stdout",
     "output_type": "stream",
     "text": [
      "[12, 89, 0, 34, 100]\n",
      "[0, 12, 34, 89, 100]\n"
     ]
    }
   ],
   "source": [
    "#sort\n",
    "var=[12,89,0,34,100]\n",
    "print(var)\n",
    "\n",
    "var.sort()\n",
    "print(var)"
   ]
  },
  {
   "cell_type": "code",
   "execution_count": 58,
   "metadata": {},
   "outputs": [
    {
     "name": "stdout",
     "output_type": "stream",
     "text": [
      "[12, 89, 0, 34, 100]\n",
      "[100, 89, 34, 12, 0]\n"
     ]
    }
   ],
   "source": [
    "#reverse\n",
    "var=[12,89,0,34,100]\n",
    "print(var)\n",
    "var.sort()\n",
    "var.reverse()\n",
    "print(var)"
   ]
  },
  {
   "cell_type": "code",
   "execution_count": 59,
   "metadata": {},
   "outputs": [
    {
     "name": "stdout",
     "output_type": "stream",
     "text": [
      "['__add__', '__class__', '__contains__', '__delattr__', '__delitem__', '__dir__', '__doc__', '__eq__', '__format__', '__ge__', '__getattribute__', '__getitem__', '__gt__', '__hash__', '__iadd__', '__imul__', '__init__', '__init_subclass__', '__iter__', '__le__', '__len__', '__lt__', '__mul__', '__ne__', '__new__', '__reduce__', '__reduce_ex__', '__repr__', '__reversed__', '__rmul__', '__setattr__', '__setitem__', '__sizeof__', '__str__', '__subclasshook__', 'append', 'clear', 'copy', 'count', 'extend', 'index', 'insert', 'pop', 'remove', 'reverse', 'sort']\n"
     ]
    }
   ],
   "source": [
    "print(dir(list))"
   ]
  },
  {
   "cell_type": "code",
   "execution_count": 60,
   "metadata": {},
   "outputs": [
    {
     "name": "stdout",
     "output_type": "stream",
     "text": [
      "[12, 89, 12, 90, 34, 100, 23]\n"
     ]
    }
   ],
   "source": [
    "a=[12,89,12,90]\n",
    "b=[34,100,23]\n",
    "a.extend(b)\n",
    "print(a)"
   ]
  },
  {
   "cell_type": "code",
   "execution_count": 61,
   "metadata": {},
   "outputs": [
    {
     "name": "stdout",
     "output_type": "stream",
     "text": [
      "[12, 56, 90]\n",
      "[12, 56, 90]\n"
     ]
    }
   ],
   "source": [
    "a=[12,56,90]\n",
    "b=a.copy()\n",
    "print(a)\n",
    "print(b)"
   ]
  },
  {
   "cell_type": "code",
   "execution_count": 62,
   "metadata": {},
   "outputs": [
    {
     "name": "stdout",
     "output_type": "stream",
     "text": [
      "[]\n",
      "None\n"
     ]
    }
   ],
   "source": [
    "a=[12,56,90]\n",
    "\n",
    "b=a.clear()\n",
    "\n",
    "print(b)"
   ]
  },
  {
   "cell_type": "code",
   "execution_count": null,
   "metadata": {},
   "outputs": [],
   "source": []
  }
 ],
 "metadata": {
  "kernelspec": {
   "display_name": "Python 3",
   "language": "python",
   "name": "python3"
  },
  "language_info": {
   "codemirror_mode": {
    "name": "ipython",
    "version": 3
   },
   "file_extension": ".py",
   "mimetype": "text/x-python",
   "name": "python",
   "nbconvert_exporter": "python",
   "pygments_lexer": "ipython3",
   "version": "3.7.4"
  }
 },
 "nbformat": 4,
 "nbformat_minor": 2
}
